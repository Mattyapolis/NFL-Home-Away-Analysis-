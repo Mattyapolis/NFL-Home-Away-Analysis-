{
 "cells": [
  {
   "cell_type": "code",
   "execution_count": 3,
   "metadata": {},
   "outputs": [],
   "source": [
    "import pandas as pd\n",
    "import numpy as np\n",
    "import csv"
   ]
  },
  {
   "cell_type": "code",
   "execution_count": 4,
   "metadata": {},
   "outputs": [],
   "source": [
    "data2009 = \"https://raw.githubusercontent.com/ryurko/nflscrapR-data/master/games_data/regular_season/reg_games_2009.csv\"\n",
    "data2010 = \"https://raw.githubusercontent.com/ryurko/nflscrapR-data/master/games_data/regular_season/reg_games_2010.csv\"\n",
    "data2011 = \"https://raw.githubusercontent.com/ryurko/nflscrapR-data/master/games_data/regular_season/reg_games_2011.csv\"\n",
    "data2012 = \"https://raw.githubusercontent.com/ryurko/nflscrapR-data/master/games_data/regular_season/reg_games_2012.csv\"\n",
    "data2013 = \"https://raw.githubusercontent.com/ryurko/nflscrapR-data/master/games_data/regular_season/reg_games_2013.csv\"\n",
    "data2014 = \"https://raw.githubusercontent.com/ryurko/nflscrapR-data/master/games_data/regular_season/reg_games_2014.csv\"\n",
    "data2015 = \"https://raw.githubusercontent.com/ryurko/nflscrapR-data/master/games_data/regular_season/reg_games_2015.csv\"\n",
    "data2016 = \"https://raw.githubusercontent.com/ryurko/nflscrapR-data/master/games_data/regular_season/reg_games_2016.csv\"\n",
    "data2017 = \"https://raw.githubusercontent.com/ryurko/nflscrapR-data/master/games_data/regular_season/reg_games_2017.csv\"\n",
    "data2018 = \"https://raw.githubusercontent.com/ryurko/nflscrapR-data/master/games_data/regular_season/reg_games_2018.csv\"\n"
   ]
  },
  {
   "cell_type": "code",
   "execution_count": 42,
   "metadata": {},
   "outputs": [
    {
     "data": {
      "text/plain": [
       "season        320\n",
       "index         320\n",
       "home_score    320\n",
       "away_score    320\n",
       "dtype: int64"
      ]
     },
     "execution_count": 42,
     "metadata": {},
     "output_type": "execute_result"
    }
   ],
   "source": [
    "urls = [data2009, data2010, data2011, data2012, data2013, data2014, data2015, data2016, data2017, data2018]\n",
    "\n",
    "homeAwayScore = None\n",
    "\n",
    "for url in urls:\n",
    "    \n",
    "    source = pd.read_csv(url)\n",
    "    homeScores = source.groupby([\"home_team\"])[\"home_score\"].sum()\n",
    "    awayScores = source.groupby([\"away_team\"])[\"away_score\"].sum()\n",
    "    series = [homeScores, awayScores]\n",
    "    df = pd.concat(series, axis = 1)\n",
    "    year = source.at[1, \"season\"]\n",
    "    df = df.reset_index()\n",
    "    df[\"season\"] = year\n",
    "    df = df[['season', 'index', 'home_score', 'away_score']]\n",
    "    \n",
    "    \n",
    "    if homeAwayScore is None:\n",
    "        homeAwayScore = df\n",
    "    \n",
    "    else:\n",
    "        homeAwayScore = homeAwayScore.append(df)\n",
    "        \n",
    "homeAwayScore.head()\n",
    "    \n",
    "\n",
    "homeAwayScore.count()\n",
    "    \n",
    "    "
   ]
  },
  {
   "cell_type": "code",
   "execution_count": 43,
   "metadata": {},
   "outputs": [],
   "source": [
    "homeAwayScore.to_csv(\"homeAwayScores.csv\", index=False)"
   ]
  },
  {
   "cell_type": "code",
   "execution_count": null,
   "metadata": {},
   "outputs": [],
   "source": []
  }
 ],
 "metadata": {
  "kernelspec": {
   "display_name": "Python 3",
   "language": "python",
   "name": "python3"
  },
  "language_info": {
   "codemirror_mode": {
    "name": "ipython",
    "version": 3
   },
   "file_extension": ".py",
   "mimetype": "text/x-python",
   "name": "python",
   "nbconvert_exporter": "python",
   "pygments_lexer": "ipython3",
   "version": "3.7.3"
  }
 },
 "nbformat": 4,
 "nbformat_minor": 2
}
