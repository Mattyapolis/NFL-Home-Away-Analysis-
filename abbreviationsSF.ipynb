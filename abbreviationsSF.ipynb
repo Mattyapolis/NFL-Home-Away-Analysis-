{
 "cells": [
  {
   "cell_type": "code",
   "execution_count": 1,
   "metadata": {},
   "outputs": [],
   "source": [
    "# Dependencies\n",
    "import pandas as pd\n",
    "\n",
    "from sportsreference.nfl.teams import Teams"
   ]
  },
  {
   "cell_type": "code",
   "execution_count": null,
   "metadata": {},
   "outputs": [],
   "source": []
  },
  {
   "cell_type": "code",
   "execution_count": 2,
   "metadata": {},
   "outputs": [
    {
     "name": "stdout",
     "output_type": "stream",
     "text": [
      "Los Angeles Rams RAM\n",
      "Kansas City Chiefs KAN\n",
      "Baltimore Ravens RAV\n",
      "Seattle Seahawks SEA\n",
      "Tampa Bay Buccaneers TAM\n",
      "New England Patriots NWE\n",
      "Philadelphia Eagles PHI\n",
      "Dallas Cowboys DAL\n",
      "Detroit Lions DET\n",
      "San Francisco 49ers SFO\n",
      "Carolina Panthers CAR\n",
      "Indianapolis Colts CLT\n",
      "Tennessee Titans OTI\n",
      "Los Angeles Chargers SDG\n",
      "Cleveland Browns CLE\n",
      "New York Giants NYG\n",
      "Green Bay Packers GNB\n",
      "Jacksonville Jaguars JAX\n",
      "New Orleans Saints NOR\n",
      "Minnesota Vikings MIN\n",
      "Oakland Raiders RAI\n",
      "Houston Texans HTX\n",
      "Buffalo Bills BUF\n",
      "Pittsburgh Steelers PIT\n",
      "Arizona Cardinals CRD\n",
      "Atlanta Falcons ATL\n",
      "Denver Broncos DEN\n",
      "Chicago Bears CHI\n",
      "Washington Redskins WAS\n",
      "Cincinnati Bengals CIN\n",
      "New York Jets NYJ\n",
      "Miami Dolphins MIA\n"
     ]
    }
   ],
   "source": [
    "# Get team abbreviations\n",
    "abbreviations = Teams()\n",
    "for team in abbreviations:\n",
    "    print(team.name, team.abbreviation)  # Prints the team's name"
   ]
  },
  {
   "cell_type": "code",
   "execution_count": null,
   "metadata": {},
   "outputs": [],
   "source": []
  }
 ],
 "metadata": {
  "kernelspec": {
   "display_name": "Python 3",
   "language": "python",
   "name": "python3"
  },
  "language_info": {
   "codemirror_mode": {
    "name": "ipython",
    "version": 3
   },
   "file_extension": ".py",
   "mimetype": "text/x-python",
   "name": "python",
   "nbconvert_exporter": "python",
   "pygments_lexer": "ipython3",
   "version": "3.7.1"
  }
 },
 "nbformat": 4,
 "nbformat_minor": 2
}
